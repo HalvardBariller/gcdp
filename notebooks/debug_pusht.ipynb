{
 "cells": [
  {
   "cell_type": "code",
   "execution_count": 1,
   "metadata": {},
   "outputs": [],
   "source": [
    "from copy import deepcopy\n",
    "import gymnasium as gym\n",
    "import gym_pusht\n",
    "from gymnasium.wrappers import RecordVideo\n",
    "from IPython.display import Video, Image\n",
    "import matplotlib.pyplot as plt\n",
    "import numba\n",
    "import numpy as np\n",
    "import torch\n",
    "import tqdm"
   ]
  },
  {
   "cell_type": "code",
   "execution_count": 2,
   "metadata": {},
   "outputs": [
    {
     "name": "stdout",
     "output_type": "stream",
     "text": [
      "/home/halvardbariller/Documents/gcdp/notebooks\n",
      "Current working directory: /home/halvardbariller/Documents/gcdp/notebooks\n",
      "Python path: ['/home/halvardbariller/miniconda3/envs/rl_perso/lib/python310.zip', '/home/halvardbariller/miniconda3/envs/rl_perso/lib/python3.10', '/home/halvardbariller/miniconda3/envs/rl_perso/lib/python3.10/lib-dynload', '', '/home/halvardbariller/miniconda3/envs/rl_perso/lib/python3.10/site-packages', '/home/halvardbariller/Documents/lerobot', '/home/halvardbariller/miniconda3/envs/rl_perso/lib/python3.10/site-packages/rerun_sdk', '/home/halvardbariller/Documents/gcdp']\n"
     ]
    },
    {
     "name": "stderr",
     "output_type": "stream",
     "text": [
      "/home/halvardbariller/miniconda3/envs/rl_perso/lib/python3.10/site-packages/tqdm/auto.py:21: TqdmWarning: IProgress not found. Please update jupyter and ipywidgets. See https://ipywidgets.readthedocs.io/en/stable/user_install.html\n",
      "  from .autonotebook import tqdm as notebook_tqdm\n"
     ]
    }
   ],
   "source": [
    "import sys\n",
    "import os\n",
    "# Change directory to the notebook's directory\n",
    "%cd ~/Documents/gcdp/notebooks\n",
    "\n",
    "# Add the parent directory of 'gcdp' to the Python path\n",
    "import sys\n",
    "import os\n",
    "sys.path.append(os.path.abspath(os.path.join(os.getcwd(), '..')))\n",
    "\n",
    "# Verify by printing the current working directory and Python path\n",
    "print(\"Current working directory:\", os.getcwd())\n",
    "print(\"Python path:\", sys.path)\n",
    "\n",
    "# Import the modules\n",
    "from gcdp.episodes import *\n",
    "from gcdp.utils import *\n",
    "from gcdp.diffusion import *\n",
    "\n",
    "%load_ext autoreload\n",
    "%autoreload 2"
   ]
  },
  {
   "cell_type": "code",
   "execution_count": 3,
   "metadata": {},
   "outputs": [],
   "source": [
    "# env = gym.make(\"MountainCar-v0\", render_mode=\"rgb_array\")\n",
    "# record_video(env, name=\"MountainCarRandom\", horizon=10)\n",
    "# Video(\"gym_videos/MountainCarRandom/rl-video-episode-0.mp4\", embed=True)"
   ]
  },
  {
   "cell_type": "code",
   "execution_count": 4,
   "metadata": {},
   "outputs": [],
   "source": [
    "env = gym.make(\n",
    "    \"gym_pusht/PushT-v0\", obs_type=\"pixels_agent_pos\", render_mode=\"rgb_array\"\n",
    ")\n",
    "env = ScaleRewardWrapper(env)\n",
    "# record_video(env, horizon=180, name=\"PushTRandom\")"
   ]
  },
  {
   "cell_type": "code",
   "execution_count": 5,
   "metadata": {},
   "outputs": [],
   "source": [
    "# Video(\"gym_videos/PushTRandom/rl-video-episode-0.mp4\", embed=True)"
   ]
  },
  {
   "cell_type": "code",
   "execution_count": 6,
   "metadata": {},
   "outputs": [
    {
     "name": "stdout",
     "output_type": "stream",
     "text": [
      "Obs agent pos: (2,)\n",
      "Obs image: (96, 96, 3)\n",
      "Action: (2,)\n"
     ]
    },
    {
     "data": {
      "image/png": "[encoded data removed]",
      "text/plain": [
       "<Figure size 640x480 with 1 Axes>"
      ]
     },
     "metadata": {},
     "output_type": "display_data"
    }
   ],
   "source": [
    "s, _ = env.reset()\n",
    "print(\"Obs agent pos:\", s[\"agent_pos\"].shape)\n",
    "print(\"Obs image:\", s[\"pixels\"].shape)\n",
    "# Inspect element\n",
    "plt.imshow(s[\"pixels\"])\n",
    "a = env.action_space.sample()\n",
    "print(\"Action:\", a.shape)"
   ]
  },
  {
   "cell_type": "code",
   "execution_count": 6,
   "metadata": {},
   "outputs": [
    {
     "name": "stdout",
     "output_type": "stream",
     "text": [
      "dict_keys(['states', 'actions', 'reached_goals', 'desired_goal'])\n",
      "States shape: 100\n",
      "Actions shape: 100\n",
      "Reached goals 100\n",
      "Reached goals: <class 'list'>\n",
      "Desired goal: <class 'dict'>\n",
      "Goal image shape: (96, 96, 3)\n",
      "Goal agent pos shape: (2,)\n"
     ]
    }
   ],
   "source": [
    "rollout = get_rollout(episode_length=100, policy=None, env=env)\n",
    "\n",
    "print(rollout.keys())\n",
    "print(\"States shape:\", len(rollout[\"states\"]))\n",
    "print(\"Actions shape:\", len(rollout[\"actions\"]))\n",
    "print(\"Reached goals\", len(rollout[\"reached_goals\"]))\n",
    "print(\"Reached goals:\", type(rollout[\"reached_goals\"]))\n",
    "print(\"Desired goal:\", type(rollout[\"desired_goal\"]))\n",
    "print(\"Goal image shape:\", rollout[\"desired_goal\"][\"pixels\"].shape)\n",
    "print(\"Goal agent pos shape:\", rollout[\"desired_goal\"][\"agent_pos\"].shape)"
   ]
  },
  {
   "cell_type": "code",
   "execution_count": 7,
   "metadata": {},
   "outputs": [
    {
     "name": "stdout",
     "output_type": "stream",
     "text": [
      "dict_keys(['states_agent_pos', 'states_pixels', 'actions', 'reached_goals_agent_pos', 'reached_goals_pixels', 'desired_goal_agent_pos', 'desired_goal_pixels'])\n",
      "States agent pos shape: (100, 2)\n",
      "States pixels shape: (100, 96, 96, 3)\n",
      "Actions shape: (100, 2)\n",
      "Reached goals agent pos shape: (100, 2)\n",
      "Reached goals pixels shape: (100, 96, 96, 3)\n",
      "Desired goal agent pos shape: (1, 2)\n",
      "Desired goal pixels shape: (1, 96, 96, 3)\n"
     ]
    }
   ],
   "source": [
    "roll_split = split_trajectory(rollout)\n",
    "print(roll_split.keys())\n",
    "# Elements dimensions\n",
    "print(\"States agent pos shape:\", roll_split[\"states_agent_pos\"].shape)\n",
    "print(\"States pixels shape:\", roll_split[\"states_pixels\"].shape)\n",
    "print(\"Actions shape:\", roll_split[\"actions\"].shape)\n",
    "print(\n",
    "    \"Reached goals agent pos shape:\",\n",
    "    roll_split[\"reached_goals_agent_pos\"].shape,\n",
    ")\n",
    "print(\"Reached goals pixels shape:\", roll_split[\"reached_goals_pixels\"].shape)\n",
    "print(\n",
    "    \"Desired goal agent pos shape:\", roll_split[\"desired_goal_agent_pos\"].shape\n",
    ")\n",
    "print(\"Desired goal pixels shape:\", roll_split[\"desired_goal_pixels\"].shape)"
   ]
  },
  {
   "cell_type": "code",
   "execution_count": 16,
   "metadata": {},
   "outputs": [
    {
     "name": "stdout",
     "output_type": "stream",
     "text": [
      "[[ 0 16  0 16]\n",
      " [ 1 17  0 16]\n",
      " [ 2 18  0 16]\n",
      " [ 3 19  0 16]\n",
      " [ 4 20  0 16]\n",
      " [ 5 21  0 16]\n",
      " [ 6 22  0 16]\n",
      " [ 7 23  0 16]\n",
      " [ 8 24  0 16]\n",
      " [ 9 25  0 16]\n",
      " [25 41  0 16]\n",
      " [26 42  0 16]\n",
      " [27 43  0 16]\n",
      " [28 44  0 16]\n",
      " [29 45  0 16]\n",
      " [30 46  0 16]\n",
      " [31 47  0 16]\n",
      " [32 48  0 16]\n",
      " [33 49  0 16]\n",
      " [34 50  0 16]\n",
      " [35 51  0 16]]\n",
      "(51, 2)\n",
      "(51, 2)\n",
      "(51, 3, 96, 96)\n",
      "(51, 2)\n",
      "(51, 3, 96, 96)\n"
     ]
    }
   ],
   "source": [
    "trajectories = [\n",
    "    get_rollout(episode_length=i, policy=None, env=env) for i in range(25, 27)\n",
    "]\n",
    "\n",
    "dataset = PushTDatasetFromTrajectories(\n",
    "    trajectories, pred_horizon=16, obs_horizon=2, action_horizon=8\n",
    ")\n",
    "print(dataset.indices)\n",
    "print(dataset.train_data[\"agent_pos\"].shape)\n",
    "print(dataset.train_data[\"action\"].shape)\n",
    "print(dataset.train_data[\"image\"].shape)\n",
    "print(dataset.train_data[\"reached_goal_agent_pos\"].shape)\n",
    "print(dataset.train_data[\"reached_goal_image\"].shape)\n",
    "# print(dataset.train_data[\"desired_goal_agent_pos\"].shape)\n",
    "# print(dataset.train_data[\"desired_goal_image\"].shape)"
   ]
  },
  {
   "cell_type": "code",
   "execution_count": 11,
   "metadata": {},
   "outputs": [
    {
     "name": "stdout",
     "output_type": "stream",
     "text": [
      "First item keys: dict_keys(['agent_pos', 'action', 'image', 'reached_goal_agent_pos', 'reached_goal_image'])\n",
      "First item['image'].shape: (2, 3, 96, 96)\n",
      "First item['agent_pos'].shape: (2, 2)\n",
      "First item['action'].shape: (16, 2)\n"
     ]
    },
    {
     "ename": "KeyError",
     "evalue": "'desired_goal_agent_pos'",
     "output_type": "error",
     "traceback": [
      "\u001b[0;31m---------------------------------------------------------------------------\u001b[0m",
      "\u001b[0;31mKeyError\u001b[0m                                  Traceback (most recent call last)",
      "Cell \u001b[0;32mIn[11], line 15\u001b[0m\n\u001b[1;32m     12\u001b[0m \u001b[38;5;28mprint\u001b[39m(\u001b[38;5;124mf\u001b[39m\u001b[38;5;124m\"\u001b[39m\u001b[38;5;124mFirst item[\u001b[39m\u001b[38;5;124m'\u001b[39m\u001b[38;5;124magent_pos\u001b[39m\u001b[38;5;124m'\u001b[39m\u001b[38;5;124m].shape: \u001b[39m\u001b[38;5;132;01m{\u001b[39;00mfirst_item[\u001b[38;5;124m'\u001b[39m\u001b[38;5;124magent_pos\u001b[39m\u001b[38;5;124m'\u001b[39m]\u001b[38;5;241m.\u001b[39mshape\u001b[38;5;132;01m}\u001b[39;00m\u001b[38;5;124m\"\u001b[39m)\n\u001b[1;32m     13\u001b[0m \u001b[38;5;28mprint\u001b[39m(\u001b[38;5;124mf\u001b[39m\u001b[38;5;124m\"\u001b[39m\u001b[38;5;124mFirst item[\u001b[39m\u001b[38;5;124m'\u001b[39m\u001b[38;5;124maction\u001b[39m\u001b[38;5;124m'\u001b[39m\u001b[38;5;124m].shape: \u001b[39m\u001b[38;5;132;01m{\u001b[39;00mfirst_item[\u001b[38;5;124m'\u001b[39m\u001b[38;5;124maction\u001b[39m\u001b[38;5;124m'\u001b[39m]\u001b[38;5;241m.\u001b[39mshape\u001b[38;5;132;01m}\u001b[39;00m\u001b[38;5;124m\"\u001b[39m)\n\u001b[1;32m     14\u001b[0m \u001b[38;5;28mprint\u001b[39m(\n\u001b[0;32m---> 15\u001b[0m     \u001b[38;5;124mf\u001b[39m\u001b[38;5;124m\"\u001b[39m\u001b[38;5;124mFirst item[\u001b[39m\u001b[38;5;124m'\u001b[39m\u001b[38;5;124mdesired_goal_agent_pos\u001b[39m\u001b[38;5;124m'\u001b[39m\u001b[38;5;124m].shape: \u001b[39m\u001b[38;5;132;01m{\u001b[39;00m\u001b[43mfirst_item\u001b[49m\u001b[43m[\u001b[49m\u001b[38;5;124;43m'\u001b[39;49m\u001b[38;5;124;43mdesired_goal_agent_pos\u001b[39;49m\u001b[38;5;124;43m'\u001b[39;49m\u001b[43m]\u001b[49m\u001b[38;5;241m.\u001b[39mshape\u001b[38;5;132;01m}\u001b[39;00m\u001b[38;5;124m\"\u001b[39m\n\u001b[1;32m     16\u001b[0m )\n\u001b[1;32m     17\u001b[0m \u001b[38;5;28mprint\u001b[39m(\n\u001b[1;32m     18\u001b[0m     \u001b[38;5;124mf\u001b[39m\u001b[38;5;124m\"\u001b[39m\u001b[38;5;124mFirst item[\u001b[39m\u001b[38;5;124m'\u001b[39m\u001b[38;5;124mdesired_goal_image\u001b[39m\u001b[38;5;124m'\u001b[39m\u001b[38;5;124m].shape: \u001b[39m\u001b[38;5;132;01m{\u001b[39;00mfirst_item[\u001b[38;5;124m'\u001b[39m\u001b[38;5;124mdesired_goal_image\u001b[39m\u001b[38;5;124m'\u001b[39m]\u001b[38;5;241m.\u001b[39mshape\u001b[38;5;132;01m}\u001b[39;00m\u001b[38;5;124m\"\u001b[39m\n\u001b[1;32m     19\u001b[0m )\n\u001b[1;32m     20\u001b[0m \u001b[38;5;28mprint\u001b[39m(\n\u001b[1;32m     21\u001b[0m     \u001b[38;5;124mf\u001b[39m\u001b[38;5;124m\"\u001b[39m\u001b[38;5;124mFirst item[\u001b[39m\u001b[38;5;124m'\u001b[39m\u001b[38;5;124mreached_goal_agent_pos\u001b[39m\u001b[38;5;124m'\u001b[39m\u001b[38;5;124m].shape: \u001b[39m\u001b[38;5;132;01m{\u001b[39;00mfirst_item[\u001b[38;5;124m'\u001b[39m\u001b[38;5;124mreached_goal_agent_pos\u001b[39m\u001b[38;5;124m'\u001b[39m]\u001b[38;5;241m.\u001b[39mshape\u001b[38;5;132;01m}\u001b[39;00m\u001b[38;5;124m\"\u001b[39m\n\u001b[1;32m     22\u001b[0m )\n",
      "\u001b[0;31mKeyError\u001b[0m: 'desired_goal_agent_pos'"
     ]
    }
   ],
   "source": [
    "trajectories = [\n",
    "    get_rollout(episode_length=i, policy=None, env=env) for i in range(25, 27)\n",
    "]\n",
    "\n",
    "dataset = PushTDatasetFromTrajectories(\n",
    "    trajectories, pred_horizon=16, obs_horizon=2, action_horizon=8\n",
    ")\n",
    "first_item = dataset[0]\n",
    "# print(f\"First item: {first_item}\")\n",
    "print(f\"First item keys: {first_item.keys()}\")\n",
    "print(f\"First item['image'].shape: {first_item['image'].shape}\")\n",
    "print(f\"First item['agent_pos'].shape: {first_item['agent_pos'].shape}\")\n",
    "print(f\"First item['action'].shape: {first_item['action'].shape}\")\n",
    "print(\n",
    "    f\"First item['desired_goal_agent_pos'].shape: {first_item['desired_goal_agent_pos'].shape}\"\n",
    ")\n",
    "print(\n",
    "    f\"First item['desired_goal_image'].shape: {first_item['desired_goal_image'].shape}\"\n",
    ")\n",
    "print(\n",
    "    f\"First item['reached_goal_agent_pos'].shape: {first_item['reached_goal_agent_pos'].shape}\"\n",
    ")\n",
    "print(\n",
    "    f\"First item['reached_goal_image'].shape: {first_item['reached_goal_image'].shape}\"\n",
    ")\n",
    "print(len(dataset))"
   ]
  },
  {
   "cell_type": "code",
   "execution_count": 17,
   "metadata": {},
   "outputs": [
    {
     "name": "stdout",
     "output_type": "stream",
     "text": [
      "First item keys: dict_keys(['agent_pos', 'action', 'image', 'reached_goal_agent_pos', 'reached_goal_image', 'desired_goal_agent_pos', 'desired_goal_image'])\n",
      "First item['image'].shape: (2, 3, 96, 96)\n",
      "First item['agent_pos'].shape: (2, 2)\n",
      "First item['action'].shape: (16, 2)\n",
      "First item['desired_goal_agent_pos'].shape: (2,)\n",
      "First item['desired_goal_image'].shape: (3, 96, 96)\n",
      "First item['reached_goal_agent_pos'].shape: (2,)\n",
      "First item['reached_goal_image'].shape: (3, 96, 96)\n",
      "60\n"
     ]
    }
   ],
   "source": [
    "trajectories = [\n",
    "    get_rollout(episode_length=i, policy=None, env=env) for i in range(25, 30)\n",
    "]\n",
    "\n",
    "dataset = PushTDatasetFromTrajectories(\n",
    "    trajectories,\n",
    "    pred_horizon=16,\n",
    "    obs_horizon=2,\n",
    "    action_horizon=8,\n",
    "    get_original_goal=True,\n",
    ")\n",
    "first_item = dataset[0]\n",
    "# print(f\"First item: {first_item}\")\n",
    "print(f\"First item keys: {first_item.keys()}\")\n",
    "print(f\"First item['image'].shape: {first_item['image'].shape}\")\n",
    "print(f\"First item['agent_pos'].shape: {first_item['agent_pos'].shape}\")\n",
    "print(f\"First item['action'].shape: {first_item['action'].shape}\")\n",
    "print(\n",
    "    f\"First item['desired_goal_agent_pos'].shape: {first_item['desired_goal_agent_pos'].shape}\"\n",
    ")\n",
    "print(\n",
    "    f\"First item['desired_goal_image'].shape: {first_item['desired_goal_image'].shape}\"\n",
    ")\n",
    "print(\n",
    "    f\"First item['reached_goal_agent_pos'].shape: {first_item['reached_goal_agent_pos'].shape}\"\n",
    ")\n",
    "print(\n",
    "    f\"First item['reached_goal_image'].shape: {first_item['reached_goal_image'].shape}\"\n",
    ")\n",
    "print(len(dataset))"
   ]
  },
  {
   "cell_type": "code",
   "execution_count": 52,
   "metadata": {},
   "outputs": [
    {
     "name": "stdout",
     "output_type": "stream",
     "text": [
      "True\n",
      "True\n",
      "True\n",
      "True\n"
     ]
    }
   ],
   "source": [
    "# Test if first item actions are the same as the ones in the trajectory\n",
    "print(np.allclose(first_item[\"action\"], trajectories[0][\"actions\"][:16]))\n",
    "\n",
    "# Test if first item image is the same as the one in the trajectory\n",
    "print(\n",
    "    np.allclose(\n",
    "        first_item[\"image\"][0].transpose(1, 2, 0),\n",
    "        trajectories[0][\"states\"][0][\"pixels\"] / 255.0,\n",
    "    )\n",
    ")\n",
    "\n",
    "# Test if first item agent pos is the same as the one in the trajectory\n",
    "print(\n",
    "    np.allclose(\n",
    "        first_item[\"agent_pos\"][0], trajectories[0][\"states\"][0][\"agent_pos\"]\n",
    "    )\n",
    ")\n",
    "\n",
    "# Test if first item reached goal agent pos is the same as the one in the trajectory\n",
    "print(\n",
    "    np.allclose(\n",
    "        first_item[\"reached_goal_agent_pos\"],\n",
    "        trajectories[0][\"reached_goals\"][16][\"agent_pos\"],\n",
    "        trajectories[0][\"states\"][17][\"agent_pos\"],\n",
    "    )\n",
    ")\n",
    "\n",
    "# All true with zero padding"
   ]
  },
  {
   "cell_type": "code",
   "execution_count": 76,
   "metadata": {},
   "outputs": [
    {
     "name": "stdout",
     "output_type": "stream",
     "text": [
      "batch['image'].shape: torch.Size([64, 2, 3, 96, 96])\n",
      "batch['agent_pos'].shape: torch.Size([64, 2, 2])\n",
      "batch['action'].shape torch.Size([64, 16, 2])\n",
      "batch['desired_goal_agent_pos'].shape: torch.Size([64, 2])\n",
      "batch['desired_goal_image'].shape: torch.Size([64, 3, 96, 96])\n",
      "batch['reached_goal_agent_pos'].shape: torch.Size([64, 2])\n",
      "batch['reached_goal_image'].shape: torch.Size([64, 3, 96, 96])\n"
     ]
    }
   ],
   "source": [
    "# create dataloader\n",
    "dataloader = torch.utils.data.DataLoader(\n",
    "    dataset,\n",
    "    batch_size=64,\n",
    "    num_workers=0,\n",
    "    shuffle=True,\n",
    "    # accelerate cpu-gpu transfer\n",
    "    pin_memory=True,\n",
    "    # don't kill worker process afte each epoch\n",
    "    persistent_workers=False,\n",
    ")\n",
    "\n",
    "# visualize data in batch\n",
    "batch = next(iter(dataloader))\n",
    "print(\n",
    "    \"batch['image'].shape:\", batch[\"image\"].shape\n",
    ")  # (batch_size, obs_horizon, C, H, W)\n",
    "print(\n",
    "    \"batch['agent_pos'].shape:\", batch[\"agent_pos\"].shape\n",
    ")  # (batch_size, obs_horizon, 2)\n",
    "print(\n",
    "    \"batch['action'].shape\", batch[\"action\"].shape\n",
    ")  # (batch_size, action_horizon, 2)\n",
    "print(\n",
    "    \"batch['desired_goal_agent_pos'].shape:\",\n",
    "    batch[\"desired_goal_agent_pos\"].shape,\n",
    ")  # (batch_size, 2)\n",
    "print(\n",
    "    \"batch['desired_goal_image'].shape:\", batch[\"desired_goal_image\"].shape\n",
    ")  # (batch_size, C, H, W)\n",
    "print(\n",
    "    \"batch['reached_goal_agent_pos'].shape:\",\n",
    "    batch[\"reached_goal_agent_pos\"].shape,\n",
    ")  # (batch_size, 2)\n",
    "print(\n",
    "    \"batch['reached_goal_image'].shape:\", batch[\"reached_goal_image\"].shape\n",
    ")  # (batch_size, C, H, W)"
   ]
  },
  {
   "cell_type": "code",
   "execution_count": 59,
   "metadata": {},
   "outputs": [
    {
     "name": "stdout",
     "output_type": "stream",
     "text": [
      "[-1, 0]\n",
      "[-1, 0, 1, 2, 3, 4]\n"
     ]
    }
   ],
   "source": [
    "n_obs_steps = 2\n",
    "horizon = 6\n",
    "n_action_steps = 1\n",
    "\n",
    "print([i for i in range(1 - n_obs_steps, 1)])\n",
    "print([i for i in range(1 - n_obs_steps, 1 - n_obs_steps + horizon)])"
   ]
  },
  {
   "cell_type": "markdown",
   "metadata": {},
   "source": [
    "## Get statistics"
   ]
  },
  {
   "cell_type": "code",
   "execution_count": 9,
   "metadata": {},
   "outputs": [
    {
     "name": "stderr",
     "output_type": "stream",
     "text": [
      "/home/halvardbariller/miniconda3/envs/rl_perso/lib/python3.10/site-packages/tqdm/auto.py:21: TqdmWarning: IProgress not found. Please update jupyter and ipywidgets. See https://ipywidgets.readthedocs.io/en/stable/user_install.html\n",
      "  from .autonotebook import tqdm as notebook_tqdm\n",
      "Fetching 222 files: 100%|██████████| 222/222 [00:00<00:00, 11769.54it/s]\n"
     ]
    }
   ],
   "source": [
    "from lerobot.common.datasets.lerobot_dataset import LeRobotDataset\n",
    "\n",
    "dataset = LeRobotDataset(\"lerobot/pusht\")"
   ]
  },
  {
   "cell_type": "code",
   "execution_count": 63,
   "metadata": {},
   "outputs": [
    {
     "data": {
      "text/plain": [
       "dict_keys(['action', 'episode_index', 'frame_index', 'index', 'next.done', 'next.reward', 'next.success', 'observation.image', 'observation.state', 'timestamp'])"
      ]
     },
     "execution_count": 63,
     "metadata": {},
     "output_type": "execute_result"
    }
   ],
   "source": [
    "dataset.stats.keys()"
   ]
  },
  {
   "cell_type": "code",
   "execution_count": 67,
   "metadata": {},
   "outputs": [],
   "source": [
    "# test = dataset.stats[\"action\", \"observation.state\"]\n",
    "test = {k: dataset.stats[k] for k in [\"action\", \"observation.state\"]}"
   ]
  },
  {
   "cell_type": "code",
   "execution_count": 68,
   "metadata": {},
   "outputs": [
    {
     "data": {
      "text/plain": [
       "{'action': {'max': tensor([511., 511.]),\n",
       "  'mean': tensor([228.2396, 293.9891]),\n",
       "  'min': tensor([12., 25.]),\n",
       "  'std': tensor([101.5996,  96.0393])},\n",
       " 'observation.state': {'max': tensor([496.1462, 510.9579]),\n",
       "  'mean': tensor([229.1110, 293.3110]),\n",
       "  'min': tensor([13.4564, 32.9383]),\n",
       "  'std': tensor([101.8547,  96.4895])}}"
      ]
     },
     "execution_count": 68,
     "metadata": {},
     "output_type": "execute_result"
    }
   ],
   "source": [
    "test"
   ]
  },
  {
   "cell_type": "code",
   "execution_count": 13,
   "metadata": {},
   "outputs": [
    {
     "data": {
      "text/plain": [
       "{'action': {'max': array([511., 511.], dtype=float32),\n",
       "  'mean': array([228.23961, 293.98907], dtype=float32),\n",
       "  'min': array([12., 25.], dtype=float32),\n",
       "  'std': array([101.59956,  96.03931], dtype=float32)},\n",
       " 'observation.state': {'max': array([496.14618, 510.9579 ], dtype=float32),\n",
       "  'mean': array([229.11102, 293.31097], dtype=float32),\n",
       "  'min': array([13.456424, 32.938293], dtype=float32),\n",
       "  'std': array([101.854706,  96.48946 ], dtype=float32)}}"
      ]
     },
     "execution_count": 13,
     "metadata": {},
     "output_type": "execute_result"
    }
   ],
   "source": [
    "demonstration = np.load(\n",
    "    \"objects/demonstration_statistics.npz\", allow_pickle=True\n",
    ")\n",
    "demonstration_statistics = {\n",
    "    key: demonstration[key].item() for key in demonstration\n",
    "}\n",
    "demonstration.close()\n",
    "demonstration_statistics"
   ]
  },
  {
   "cell_type": "code",
   "execution_count": 11,
   "metadata": {},
   "outputs": [
    {
     "name": "stderr",
     "output_type": "stream",
     "text": [
      "Fetching 222 files: 100%|██████████| 222/222 [00:00<00:00, 8740.84it/s]\n"
     ]
    },
    {
     "data": {
      "text/plain": [
       "{'action': {'max': tensor([511., 511.]),\n",
       "  'mean': tensor([228.2396, 293.9891]),\n",
       "  'min': tensor([12., 25.]),\n",
       "  'std': tensor([101.5996,  96.0393])},\n",
       " 'observation.state': {'max': tensor([496.1462, 510.9579]),\n",
       "  'mean': tensor([229.1110, 293.3110]),\n",
       "  'min': tensor([13.4564, 32.9383]),\n",
       "  'std': tensor([101.8547,  96.4895])}}"
      ]
     },
     "execution_count": 11,
     "metadata": {},
     "output_type": "execute_result"
    }
   ],
   "source": [
    "demonstrations = LeRobotDataset(\"lerobot/pusht\")\n",
    "demonstrations_statistics = {\n",
    "    k: demonstrations.stats[k] for k in [\"action\", \"observation.state\"]\n",
    "}\n",
    "\n",
    "demonstrations_statistics"
   ]
  },
  {
   "cell_type": "code",
   "execution_count": 76,
   "metadata": {},
   "outputs": [
    {
     "name": "stderr",
     "output_type": "stream",
     "text": [
      "Fetching 222 files: 100%|██████████| 222/222 [00:00<00:00, 10341.24it/s]\n"
     ]
    }
   ],
   "source": [
    "demonstrations = LeRobotDataset(\"lerobot/pusht\")\n",
    "demonstrations_statistics = {\n",
    "    k: demonstrations.stats[k] for k in [\"action\", \"observation.state\"]\n",
    "}\n",
    "\n",
    "# parameters\n",
    "pred_horizon = 16\n",
    "obs_horizon = 2\n",
    "action_horizon = 8\n",
    "\n",
    "dataset = PushTDatasetFromTrajectories(\n",
    "    trajectories,\n",
    "    pred_horizon=pred_horizon,\n",
    "    obs_horizon=obs_horizon,\n",
    "    action_horizon=action_horizon,\n",
    "    get_original_goal=False,\n",
    "    dataset_statistics=demonstrations_statistics,\n",
    ")"
   ]
  },
  {
   "cell_type": "code",
   "execution_count": 77,
   "metadata": {},
   "outputs": [
    {
     "data": {
      "text/plain": [
       "{'agent_pos': array([[-0.46738635,  0.01276898],\n",
       "        [-0.46738635,  0.01276898]]),\n",
       " 'action': array([[ 0.96663773,  0.7850697 ],\n",
       "        [ 0.96663773,  0.7850697 ],\n",
       "        [-0.00548816, -0.8222374 ],\n",
       "        [-0.8310049 , -0.86403257],\n",
       "        [ 0.09667075, -0.9940915 ],\n",
       "        [ 0.69580305, -0.5027053 ],\n",
       "        [-0.35563672, -0.06748867],\n",
       "        [ 0.6089151 ,  0.8936937 ],\n",
       "        [ 0.90504134,  0.7356423 ],\n",
       "        [ 0.38220775, -0.22864574],\n",
       "        [ 0.66850805, -0.39149034],\n",
       "        [ 0.3343656 , -0.8905223 ],\n",
       "        [-0.32924128,  0.19324386],\n",
       "        [ 0.28676867, -1.0896404 ],\n",
       "        [ 0.24290764,  0.892455  ],\n",
       "        [ 0.8979981 , -0.5056248 ]], dtype=float32),\n",
       " 'image': array([[[[1.        , 0.972549  , 0.972549  , ..., 0.972549  ,\n",
       "           0.972549  , 1.        ],\n",
       "          [0.972549  , 0.87058824, 0.9137255 , ..., 0.9137255 ,\n",
       "           0.87058824, 0.972549  ],\n",
       "          [0.96862745, 0.9137255 , 1.        , ..., 1.        ,\n",
       "           0.9137255 , 0.96862745],\n",
       "          ...,\n",
       "          [0.96862745, 0.9137255 , 1.        , ..., 1.        ,\n",
       "           0.9137255 , 0.96862745],\n",
       "          [0.972549  , 0.87058824, 0.9137255 , ..., 0.9137255 ,\n",
       "           0.87058824, 0.972549  ],\n",
       "          [1.        , 0.972549  , 0.972549  , ..., 0.972549  ,\n",
       "           0.972549  , 1.        ]],\n",
       " \n",
       "         [[1.        , 0.972549  , 0.972549  , ..., 0.972549  ,\n",
       "           0.972549  , 1.        ],\n",
       "          [0.972549  , 0.87058824, 0.9137255 , ..., 0.9137255 ,\n",
       "           0.87058824, 0.972549  ],\n",
       "          [0.96862745, 0.9137255 , 1.        , ..., 1.        ,\n",
       "           0.9137255 , 0.96862745],\n",
       "          ...,\n",
       "          [0.96862745, 0.9137255 , 1.        , ..., 1.        ,\n",
       "           0.9137255 , 0.96862745],\n",
       "          [0.972549  , 0.87058824, 0.9137255 , ..., 0.9137255 ,\n",
       "           0.87058824, 0.972549  ],\n",
       "          [1.        , 0.972549  , 0.972549  , ..., 0.972549  ,\n",
       "           0.972549  , 1.        ]],\n",
       " \n",
       "         [[1.        , 0.972549  , 0.972549  , ..., 0.972549  ,\n",
       "           0.972549  , 1.        ],\n",
       "          [0.972549  , 0.87058824, 0.9137255 , ..., 0.9137255 ,\n",
       "           0.87058824, 0.972549  ],\n",
       "          [0.96862745, 0.9137255 , 1.        , ..., 1.        ,\n",
       "           0.9137255 , 0.96862745],\n",
       "          ...,\n",
       "          [0.96862745, 0.9137255 , 1.        , ..., 1.        ,\n",
       "           0.9137255 , 0.96862745],\n",
       "          [0.972549  , 0.87058824, 0.9137255 , ..., 0.9137255 ,\n",
       "           0.87058824, 0.972549  ],\n",
       "          [1.        , 0.972549  , 0.972549  , ..., 0.972549  ,\n",
       "           0.972549  , 1.        ]]],\n",
       " \n",
       " \n",
       "        [[[1.        , 0.972549  , 0.972549  , ..., 0.972549  ,\n",
       "           0.972549  , 1.        ],\n",
       "          [0.972549  , 0.87058824, 0.9137255 , ..., 0.9137255 ,\n",
       "           0.87058824, 0.972549  ],\n",
       "          [0.96862745, 0.9137255 , 1.        , ..., 1.        ,\n",
       "           0.9137255 , 0.96862745],\n",
       "          ...,\n",
       "          [0.96862745, 0.9137255 , 1.        , ..., 1.        ,\n",
       "           0.9137255 , 0.96862745],\n",
       "          [0.972549  , 0.87058824, 0.9137255 , ..., 0.9137255 ,\n",
       "           0.87058824, 0.972549  ],\n",
       "          [1.        , 0.972549  , 0.972549  , ..., 0.972549  ,\n",
       "           0.972549  , 1.        ]],\n",
       " \n",
       "         [[1.        , 0.972549  , 0.972549  , ..., 0.972549  ,\n",
       "           0.972549  , 1.        ],\n",
       "          [0.972549  , 0.87058824, 0.9137255 , ..., 0.9137255 ,\n",
       "           0.87058824, 0.972549  ],\n",
       "          [0.96862745, 0.9137255 , 1.        , ..., 1.        ,\n",
       "           0.9137255 , 0.96862745],\n",
       "          ...,\n",
       "          [0.96862745, 0.9137255 , 1.        , ..., 1.        ,\n",
       "           0.9137255 , 0.96862745],\n",
       "          [0.972549  , 0.87058824, 0.9137255 , ..., 0.9137255 ,\n",
       "           0.87058824, 0.972549  ],\n",
       "          [1.        , 0.972549  , 0.972549  , ..., 0.972549  ,\n",
       "           0.972549  , 1.        ]],\n",
       " \n",
       "         [[1.        , 0.972549  , 0.972549  , ..., 0.972549  ,\n",
       "           0.972549  , 1.        ],\n",
       "          [0.972549  , 0.87058824, 0.9137255 , ..., 0.9137255 ,\n",
       "           0.87058824, 0.972549  ],\n",
       "          [0.96862745, 0.9137255 , 1.        , ..., 1.        ,\n",
       "           0.9137255 , 0.96862745],\n",
       "          ...,\n",
       "          [0.96862745, 0.9137255 , 1.        , ..., 1.        ,\n",
       "           0.9137255 , 0.96862745],\n",
       "          [0.972549  , 0.87058824, 0.9137255 , ..., 0.9137255 ,\n",
       "           0.87058824, 0.972549  ],\n",
       "          [1.        , 0.972549  , 0.972549  , ..., 0.972549  ,\n",
       "           0.972549  , 1.        ]]]], dtype=float32),\n",
       " 'reached_goal_agent_pos': array([0.38280922, 0.01522658]),\n",
       " 'reached_goal_image': array([[[1.        , 0.972549  , 0.972549  , ..., 0.972549  ,\n",
       "          0.972549  , 1.        ],\n",
       "         [0.972549  , 0.87058824, 0.9137255 , ..., 0.9137255 ,\n",
       "          0.87058824, 0.972549  ],\n",
       "         [0.96862745, 0.9137255 , 1.        , ..., 1.        ,\n",
       "          0.9137255 , 0.96862745],\n",
       "         ...,\n",
       "         [0.96862745, 0.9137255 , 1.        , ..., 1.        ,\n",
       "          0.9137255 , 0.96862745],\n",
       "         [0.972549  , 0.87058824, 0.9137255 , ..., 0.9137255 ,\n",
       "          0.87058824, 0.972549  ],\n",
       "         [1.        , 0.972549  , 0.972549  , ..., 0.972549  ,\n",
       "          0.972549  , 1.        ]],\n",
       " \n",
       "        [[1.        , 0.972549  , 0.972549  , ..., 0.972549  ,\n",
       "          0.972549  , 1.        ],\n",
       "         [0.972549  , 0.87058824, 0.9137255 , ..., 0.9137255 ,\n",
       "          0.87058824, 0.972549  ],\n",
       "         [0.96862745, 0.9137255 , 1.        , ..., 1.        ,\n",
       "          0.9137255 , 0.96862745],\n",
       "         ...,\n",
       "         [0.96862745, 0.9137255 , 1.        , ..., 1.        ,\n",
       "          0.9137255 , 0.96862745],\n",
       "         [0.972549  , 0.87058824, 0.9137255 , ..., 0.9137255 ,\n",
       "          0.87058824, 0.972549  ],\n",
       "         [1.        , 0.972549  , 0.972549  , ..., 0.972549  ,\n",
       "          0.972549  , 1.        ]],\n",
       " \n",
       "        [[1.        , 0.972549  , 0.972549  , ..., 0.972549  ,\n",
       "          0.972549  , 1.        ],\n",
       "         [0.972549  , 0.87058824, 0.9137255 , ..., 0.9137255 ,\n",
       "          0.87058824, 0.972549  ],\n",
       "         [0.96862745, 0.9137255 , 1.        , ..., 1.        ,\n",
       "          0.9137255 , 0.96862745],\n",
       "         ...,\n",
       "         [0.96862745, 0.9137255 , 1.        , ..., 1.        ,\n",
       "          0.9137255 , 0.96862745],\n",
       "         [0.972549  , 0.87058824, 0.9137255 , ..., 0.9137255 ,\n",
       "          0.87058824, 0.972549  ],\n",
       "         [1.        , 0.972549  , 0.972549  , ..., 0.972549  ,\n",
       "          0.972549  , 1.        ]]], dtype=float32)}"
      ]
     },
     "execution_count": 77,
     "metadata": {},
     "output_type": "execute_result"
    }
   ],
   "source": [
    "dataset[0]"
   ]
  },
  {
   "cell_type": "markdown",
   "metadata": {},
   "source": [
    "## Get goal with completed task"
   ]
  },
  {
   "cell_type": "code",
   "execution_count": 7,
   "metadata": {},
   "outputs": [
    {
     "name": "stdout",
     "output_type": "stream",
     "text": [
      "Obs agent pos: (2,)\n",
      "Obs image: (96, 96, 3)\n"
     ]
    },
    {
     "data": {
      "text/plain": [
       "<matplotlib.image.AxesImage at 0x71daecd4eec0>"
      ]
     },
     "execution_count": 7,
     "metadata": {},
     "output_type": "execute_result"
    },
    {
     "data": {
      "image/png": "[encoded data removed]",
      "text/plain": [
       "<Figure size 640x480 with 1 Axes>"
      ]
     },
     "metadata": {},
     "output_type": "display_data"
    }
   ],
   "source": [
    "s, _ = env.reset()\n",
    "print(\"Obs agent pos:\", s[\"agent_pos\"].shape)\n",
    "print(\"Obs image:\", s[\"pixels\"].shape)\n",
    "# Inspect element\n",
    "plt.imshow(s[\"pixels\"])"
   ]
  },
  {
   "cell_type": "code",
   "execution_count": 15,
   "metadata": {},
   "outputs": [
    {
     "name": "stderr",
     "output_type": "stream",
     "text": [
      "Fetching 222 files: 100%|██████████| 222/222 [00:00<00:00, 6747.26it/s]\n"
     ]
    }
   ],
   "source": [
    "from lerobot.common.datasets.lerobot_dataset import LeRobotDataset\n",
    "\n",
    "demonstrations = LeRobotDataset(\"lerobot/pusht\")"
   ]
  },
  {
   "cell_type": "code",
   "execution_count": 32,
   "metadata": {},
   "outputs": [
    {
     "name": "stdout",
     "output_type": "stream",
     "text": [
      "162\n"
     ]
    }
   ],
   "source": [
    "successes = []\n",
    "for i in range(10000):\n",
    "    if demonstrations[i][\"next.done\"]:\n",
    "        success = {\n",
    "            \"agent_pos\": demonstrations[i][\"observation.state\"].numpy(),\n",
    "            \"pixels\": demonstrations[i][\"observation.image\"]\n",
    "            .numpy()\n",
    "            .transpose(1, 2, 0),\n",
    "        }\n",
    "        successes.append(success)\n",
    "\n",
    "print(len(successes))"
   ]
  },
  {
   "cell_type": "code",
   "execution_count": 34,
   "metadata": {},
   "outputs": [
    {
     "name": "stdout",
     "output_type": "stream",
     "text": [
      "/home/halvardbariller/Documents/gcdp/notebooks\n"
     ]
    }
   ],
   "source": [
    "!pwd"
   ]
  },
  {
   "cell_type": "code",
   "execution_count": 35,
   "metadata": {},
   "outputs": [],
   "source": [
    "import pickle\n",
    "\n",
    "with open(\n",
    "    \"/home/halvardbariller/Documents/gcdp/objects/successes.pkl\", \"wb\"\n",
    ") as f:\n",
    "    pickle.dump(successes, f)"
   ]
  },
  {
   "cell_type": "code",
   "execution_count": 44,
   "metadata": {},
   "outputs": [],
   "source": [
    "# Load from a pickle file\n",
    "with open(\n",
    "    \"/home/halvardbariller/Documents/gcdp/objects/successes.pkl\", \"rb\"\n",
    ") as f:\n",
    "    successes = pickle.load(f)\n",
    "for item in successes:\n",
    "    item[\"pixels\"] = item[\"pixels\"].astype(np.float64)"
   ]
  },
  {
   "cell_type": "code",
   "execution_count": 45,
   "metadata": {},
   "outputs": [
    {
     "data": {
      "text/plain": [
       "{'agent_pos': array([156.57964, 362.48627], dtype=float32),\n",
       " 'pixels': array([[[1.        , 1.        , 1.        ],\n",
       "         [0.97254902, 0.97254902, 0.97254902],\n",
       "         [0.96862745, 0.96862745, 0.96862745],\n",
       "         ...,\n",
       "         [0.96862745, 0.96862745, 0.96862745],\n",
       "         [0.97254902, 0.97254902, 0.97254902],\n",
       "         [1.        , 1.        , 1.        ]],\n",
       " \n",
       "        [[0.97254902, 0.97254902, 0.97254902],\n",
       "         [0.86666667, 0.86666667, 0.86666667],\n",
       "         [0.89803922, 0.89803922, 0.89803922],\n",
       "         ...,\n",
       "         [0.90588236, 0.90588236, 0.90588236],\n",
       "         [0.87058824, 0.87058824, 0.87058824],\n",
       "         [0.97647059, 0.97647059, 0.97647059]],\n",
       " \n",
       "        [[0.96862745, 0.96862745, 0.96862745],\n",
       "         [0.89803922, 0.89803922, 0.89803922],\n",
       "         [1.        , 1.        , 1.        ],\n",
       "         ...,\n",
       "         [1.        , 1.        , 1.        ],\n",
       "         [0.90980393, 0.90980393, 0.90980393],\n",
       "         [0.97647059, 0.97647059, 0.97647059]],\n",
       " \n",
       "        ...,\n",
       " \n",
       "        [[0.96862745, 0.96862745, 0.96862745],\n",
       "         [0.90588236, 0.90588236, 0.90588236],\n",
       "         [1.        , 1.        , 1.        ],\n",
       "         ...,\n",
       "         [1.        , 1.        , 1.        ],\n",
       "         [0.90588236, 0.90588236, 0.90588236],\n",
       "         [0.96862745, 0.96862745, 0.96862745]],\n",
       " \n",
       "        [[0.97254902, 0.97254902, 0.97254902],\n",
       "         [0.87058824, 0.87058824, 0.87058824],\n",
       "         [0.90980393, 0.90980393, 0.90980393],\n",
       "         ...,\n",
       "         [0.90980393, 0.90980393, 0.90980393],\n",
       "         [0.87058824, 0.87058824, 0.87058824],\n",
       "         [0.97254902, 0.97254902, 0.97254902]],\n",
       " \n",
       "        [[1.        , 1.        , 1.        ],\n",
       "         [0.97647059, 0.97647059, 0.97647059],\n",
       "         [0.97647059, 0.97647059, 0.97647059],\n",
       "         ...,\n",
       "         [0.97647059, 0.97647059, 0.97647059],\n",
       "         [0.97647059, 0.97647059, 0.97647059],\n",
       "         [1.        , 1.        , 1.        ]]])}"
      ]
     },
     "execution_count": 45,
     "metadata": {},
     "output_type": "execute_result"
    }
   ],
   "source": [
    "successes[0]"
   ]
  },
  {
   "cell_type": "code",
   "execution_count": 48,
   "metadata": {},
   "outputs": [
    {
     "data": {
      "text/plain": [
       "<matplotlib.image.AxesImage at 0x71dbc3dc2bc0>"
      ]
     },
     "execution_count": 48,
     "metadata": {},
     "output_type": "execute_result"
    },
    {
     "data": {
      "image/png": "[encoded data removed]",
      "text/plain": [
       "<Figure size 640x480 with 1 Axes>"
      ]
     },
     "metadata": {},
     "output_type": "display_data"
    }
   ],
   "source": [
    "spixels = successes[20][\"pixels\"]\n",
    "spixels\n",
    "plt.imshow(spixels)"
   ]
  },
  {
   "cell_type": "code",
   "execution_count": 31,
   "metadata": {},
   "outputs": [
    {
     "name": "stdout",
     "output_type": "stream",
     "text": [
      "[171.49362 253.31898]\n"
     ]
    },
    {
     "data": {
      "image/png": "[encoded data removed]",
      "text/plain": [
       "<Figure size 640x480 with 1 Axes>"
      ]
     },
     "metadata": {},
     "output_type": "display_data"
    }
   ],
   "source": [
    "spixels = demonstrations[7390][\"observation.image\"].numpy().transpose(1, 2, 0)\n",
    "sagent_pos = demonstrations[7390][\"observation.state\"].numpy()\n",
    "plt.imshow(spixels)\n",
    "print(sagent_pos)"
   ]
  },
  {
   "cell_type": "code",
   "execution_count": 106,
   "metadata": {},
   "outputs": [
    {
     "name": "stdout",
     "output_type": "stream",
     "text": [
      "[272.9993  249.34567]\n"
     ]
    },
    {
     "data": {
      "image/png": "[encoded data removed]",
      "text/plain": [
       "<Figure size 640x480 with 1 Axes>"
      ]
     },
     "metadata": {},
     "output_type": "display_data"
    }
   ],
   "source": [
    "spixels = demonstrations[578][\"observation.image\"].numpy().transpose(1, 2, 0)\n",
    "sagent_pos = demonstrations[578][\"observation.state\"].numpy()\n",
    "plt.imshow(spixels)\n",
    "print(sagent_pos)"
   ]
  },
  {
   "cell_type": "code",
   "execution_count": 107,
   "metadata": {},
   "outputs": [],
   "source": [
    "termination_goal = {\"agent_pos\": sagent_pos, \"pixels\": spixels}\n",
    "\n",
    "np.savez(\"termination_goal.npz\", **termination_goal)"
   ]
  },
  {
   "cell_type": "code",
   "execution_count": null,
   "metadata": {},
   "outputs": [],
   "source": []
  }
 ],
 "metadata": {
  "kernelspec": {
   "display_name": "rl_base",
   "language": "python",
   "name": "python3"
  },
  "language_info": {
   "codemirror_mode": {
    "name": "ipython",
    "version": 3
   },
   "file_extension": ".py",
   "mimetype": "text/x-python",
   "name": "python",
   "nbconvert_exporter": "python",
   "pygments_lexer": "ipython3",
   "version": "3.10.14"
  }
 },
 "nbformat": 4,
 "nbformat_minor": 2
}
